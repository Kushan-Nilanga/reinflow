{
 "cells": [
  {
   "cell_type": "code",
   "execution_count": 1,
   "metadata": {},
   "outputs": [],
   "source": [
    "import json\n",
    "import random"
   ]
  },
  {
   "cell_type": "markdown",
   "metadata": {},
   "source": [
    "## Use belows cells for data from transport source"
   ]
  },
  {
   "cell_type": "code",
   "execution_count": null,
   "metadata": {},
   "outputs": [],
   "source": [
    "with open('Traffic_Lights.geojson', 'r') as data_file:\n",
    "    data = json.load(data_file)"
   ]
  },
  {
   "cell_type": "code",
   "execution_count": 2,
   "metadata": {},
   "outputs": [],
   "source": [
    "def randomise_colour():\n",
    "    num = random.randrange(0, 3)\n",
    "    if (num == 0):\n",
    "        colour = \"R\"\n",
    "    elif(num == 1):\n",
    "        colour = \"Y\"\n",
    "    else:\n",
    "        colour = \"G\"\n",
    "    return num"
   ]
  },
  {
   "cell_type": "code",
   "execution_count": null,
   "metadata": {},
   "outputs": [],
   "source": [
    "del data['name']\n",
    "del data['crs']\n",
    "del data['type']\n",
    "\n",
    "for i in data['features']:\n",
    "    del i['properties']['TLIGHTS_']\n",
    "    del i['properties']['TLIGHTS_ID']\n",
    "    del i['properties']['DIRECTORY']\n",
    "    del i['properties']['DIR_REF']\n",
    "    del i['properties']['D_ADDED']\n",
    "    del i['properties']['D_TOWNS']\n",
    "    del i['properties']['D_EDITED']\n",
    "    del i['properties']['D_REMOVED']\n",
    "    del i['properties']['LINK_MODE']\n",
    "    del i['properties']['MULTI']\n",
    "    del i['properties']['UFI']\n",
    "    del i['properties']['ARC_UFI']\n",
    "    del i['properties']['COMMENTS']\n",
    "    i['properties']['lat'] = i['geometry']['coordinates'][1]\n",
    "    i['properties']['lon'] = i['geometry']['coordinates'][0]\n",
    "    i['properties']['SIGNAL'] = randomise_colour()\n",
    "\n",
    "    del i['geometry']\n"
   ]
  },
  {
   "cell_type": "code",
   "execution_count": 29,
   "metadata": {},
   "outputs": [],
   "source": [
    "objlist = []\n",
    "for i in data['features']:\n",
    "    objlist.append(i['properties'])"
   ]
  },
  {
   "cell_type": "code",
   "execution_count": null,
   "metadata": {},
   "outputs": [],
   "source": [
    "objlist"
   ]
  },
  {
   "cell_type": "code",
   "execution_count": null,
   "metadata": {},
   "outputs": [],
   "source": [
    "## Use belows cells for data from transport sourcewith open('output.json', 'w') as data_file:\n",
    "    data = json.dump(objlist, data_file)"
   ]
  },
  {
   "cell_type": "markdown",
   "metadata": {},
   "source": [
    "## Use belows cells for data from OSM export"
   ]
  },
  {
   "cell_type": "code",
   "execution_count": 27,
   "metadata": {},
   "outputs": [],
   "source": [
    "with open('export.geojson', 'r') as data_file:\n",
    "    data = json.load(data_file)"
   ]
  },
  {
   "cell_type": "code",
   "execution_count": 18,
   "metadata": {},
   "outputs": [
    {
     "data": {
      "text/plain": [
       "{'@id': 'node/26034533',\n",
       " 'crossing': 'traffic_signals',\n",
       " 'highway': 'traffic_signals'}"
      ]
     },
     "execution_count": 18,
     "metadata": {},
     "output_type": "execute_result"
    }
   ],
   "source": [
    "data['features'][0]['properties']"
   ]
  },
  {
   "cell_type": "code",
   "execution_count": 28,
   "metadata": {},
   "outputs": [],
   "source": [
    "del data['type']\n",
    "del data['generator']\n",
    "del data['copyright']\n",
    "del data['timestamp']\n",
    "\n",
    "for i in data['features']:\n",
    "    del i['type']\n",
    "    del i['id']\n",
    "    del i['properties']['highway']\n",
    "    \n",
    "    if ('crossing' in i['properties']):\n",
    "        del i['properties']['crossing']\n",
    " \n",
    "    i['properties']['SITE_NO'] = i['properties']['@id'].split('/')[1]\n",
    "    del i['properties']['@id']\n",
    "    i['properties']['SITE_NAME'] = 'Traffic Signal'\n",
    "\n",
    "\n",
    "    i['properties']['lat'] = i['geometry']['coordinates'][1]\n",
    "    i['properties']['lon'] = i['geometry']['coordinates'][0]\n",
    "    del i['geometry']\n",
    "\n",
    "    i['properties']['SIGNAL'] = randomise_colour()"
   ]
  },
  {
   "cell_type": "code",
   "execution_count": 23,
   "metadata": {},
   "outputs": [
    {
     "data": {
      "text/plain": [
       "dict_keys(['OBJECTID', 'SITE_NAME', 'lat', 'lon', 'SIGNAL'])"
      ]
     },
     "execution_count": 23,
     "metadata": {},
     "output_type": "execute_result"
    }
   ],
   "source": [
    "data['features'][0]['properties'].keys()"
   ]
  },
  {
   "cell_type": "code",
   "execution_count": 30,
   "metadata": {},
   "outputs": [],
   "source": [
    "with open('noutput.json', 'w') as data_file:\n",
    "    data = json.dump(objlist, data_file)"
   ]
  }
 ],
 "metadata": {
  "kernelspec": {
   "display_name": "Python 3",
   "language": "python",
   "name": "python3"
  },
  "language_info": {
   "codemirror_mode": {
    "name": "ipython",
    "version": 3
   },
   "file_extension": ".py",
   "mimetype": "text/x-python",
   "name": "python",
   "nbconvert_exporter": "python",
   "pygments_lexer": "ipython3",
   "version": "3.7.6"
  }
 },
 "nbformat": 4,
 "nbformat_minor": 4
}
